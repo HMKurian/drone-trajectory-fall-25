{
 "cells": [
  {
   "cell_type": "code",
   "execution_count": 21,
   "id": "8fa0a469",
   "metadata": {},
   "outputs": [
    {
     "name": "stdout",
     "output_type": "stream",
     "text": [
      "Base (camera_x10): [15.16791291 11.38070491]\n",
      "Height 100m: [30.32089678 22.75020835]\n",
      "Height 50m: [7.58395646 5.69035246]\n",
      "Overlap 50%: [25.27985486 11.38070491]\n",
      "Computed distance for X10 camera with nominal dataset specs: [15.16791291 11.38070491]\n"
     ]
    }
   ],
   "source": [
    "import copy\n",
    "from src.plan_computation import compute_distance_between_images\n",
    "from src.data_model import Camera, DatasetSpec\n",
    "\n",
    "# --- Base camera (similar to camera_x10) ---\n",
    "camera_x10 = Camera(\n",
    "    fx = 4938.56,\n",
    "    fy = 4936.49,\n",
    "    cx = 4095.5,\n",
    "    cy = 3071.5,\n",
    "    sensor_size_x_mm = 13.107, # single pixel size * number of pixels in X dimension\n",
    "    sensor_size_y_mm = 9.830, # single pixel size * number of pixels in Y dimension\n",
    "    image_size_x_px = 8192,\n",
    "    image_size_y_px = 6144\n",
    ")\n",
    "\n",
    "# --- Base dataset specification ---\n",
    "dataset_spec = DatasetSpec(\n",
    "    overlap = 0.7,\n",
    "    sidelap = 0.7,\n",
    "    height = 30.48, # 100 ft\n",
    "    scan_dimension_x = 150,\n",
    "    scan_dimension_y = 150,\n",
    "    exposure_time_ms = 2 # 1/500 exposure time\n",
    ")\n",
    "\n",
    "# Test different scenarios\n",
    "camera_ = copy.copy(camera_x10)\n",
    "dataset_spec_ = copy.copy(dataset_spec)\n",
    "computed_base = compute_distance_between_images(camera_, dataset_spec_)\n",
    "print(\"Base (camera_x10):\", computed_base)\n",
    "\n",
    "#when double the height, i expect to see a larger footprint and thus larger distances\n",
    "#result: Height 100m: [30.32089678 22.75020835]\n",
    "camera_ = copy.copy(camera_x10)\n",
    "dataset_spec_ = copy.copy(dataset_spec)\n",
    "dataset_spec_.height = 60.93\n",
    "computed_height_100 = compute_distance_between_images(camera_, dataset_spec_)\n",
    "print(\"Height 100m:\", computed_height_100)\n",
    "\n",
    "#when decrease the height, i expect to see a smaller footprint and thus smaller distances\n",
    "#result: Height 50m: [7.58395646 5.69035246]\n",
    "camera_ = copy.copy(camera_x10)\n",
    "dataset_spec_ = copy.copy(dataset_spec)\n",
    "dataset_spec_.height = 15.24\n",
    "computed_height_100 = compute_distance_between_images(camera_, dataset_spec_)\n",
    "print(\"Height 50m:\", computed_height_100)\n",
    "\n",
    "#if I decrease the overlap, i expect to see larger distances\n",
    "#Overlap 50%: [25.27985486 11.38070491]\n",
    "camera_ = copy.copy(camera_x10)\n",
    "dataset_spec_ = copy.copy(dataset_spec)\n",
    "dataset_spec_.overlap = 0.5\n",
    "computed_overlap_50 = compute_distance_between_images(camera_, dataset_spec_)\n",
    "print(\"Overlap 50%:\", computed_overlap_50)\n",
    "\n",
    "computed_distances = compute_distance_between_images(camera_x10, dataset_spec)\n",
    "expected_distances = np.array([15.17, 11.38], dtype=np.float32)\n",
    "\n",
    "print(f\"Computed distance for X10 camera with nominal dataset specs: {computed_distances}\")\n",
    "#output:Computed distance for X10 camera with nominal dataset specs: [15.16791291 11.38070491]\n",
    "assert np.allclose(computed_distances, expected_distances, atol=1e-2)"
   ]
  }
 ],
 "metadata": {
  "kernelspec": {
   "display_name": "drone-trajectory-fall-25 (3.11.9)",
   "language": "python",
   "name": "python3"
  },
  "language_info": {
   "codemirror_mode": {
    "name": "ipython",
    "version": 3
   },
   "file_extension": ".py",
   "mimetype": "text/x-python",
   "name": "python",
   "nbconvert_exporter": "python",
   "pygments_lexer": "ipython3",
   "version": "3.11.9"
  }
 },
 "nbformat": 4,
 "nbformat_minor": 5
}
